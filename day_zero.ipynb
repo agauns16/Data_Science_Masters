{
  "nbformat": 4,
  "nbformat_minor": 0,
  "metadata": {
    "colab": {
      "provenance": [],
      "authorship_tag": "ABX9TyNgM39mZ9miCXh05SsRB1Yc",
      "include_colab_link": true
    },
    "kernelspec": {
      "name": "python3",
      "display_name": "Python 3"
    },
    "language_info": {
      "name": "python"
    }
  },
  "cells": [
    {
      "cell_type": "markdown",
      "metadata": {
        "id": "view-in-github",
        "colab_type": "text"
      },
      "source": [
        "<a href=\"https://colab.research.google.com/github/agauns16/Data_Science_Masters/blob/main/day_zero.ipynb\" target=\"_parent\"><img src=\"https://colab.research.google.com/assets/colab-badge.svg\" alt=\"Open In Colab\"/></a>"
      ]
    },
    {
      "cell_type": "code",
      "execution_count": 1,
      "metadata": {
        "colab": {
          "base_uri": "https://localhost:8080/"
        },
        "id": "SZPb62-zbORd",
        "outputId": "6ac702f9-2a02-48ca-8e4a-4bb0c7346720"
      },
      "outputs": [
        {
          "output_type": "stream",
          "name": "stdout",
          "text": [
            "Hello, World!\n"
          ]
        }
      ],
      "source": [
        "# Introduction to python\n",
        "\n",
        "# This is a comment. It will print out whatever is written\n",
        "# in the quotation mark\n",
        "print(\"Hello, World!\")"
      ]
    },
    {
      "cell_type": "code",
      "source": [
        "# indendation\n",
        "\n",
        "# case 1\n",
        "print(\"I have no Indentation \")\n",
        "\n",
        "# case 2\n",
        "##    print(\"I have tab Indentation \")\n",
        "# the above chunk of code gives error sue to indendation"
      ],
      "metadata": {
        "colab": {
          "base_uri": "https://localhost:8080/",
          "height": 106
        },
        "id": "bUCzpSxXbu7o",
        "outputId": "85d3ba7f-6f1d-4fe1-cede-9e3df2923775"
      },
      "execution_count": 3,
      "outputs": [
        {
          "output_type": "error",
          "ename": "IndentationError",
          "evalue": "unexpected indent (ipython-input-4160602014.py, line 7)",
          "traceback": [
            "\u001b[0;36m  File \u001b[0;32m\"/tmp/ipython-input-4160602014.py\"\u001b[0;36m, line \u001b[0;32m7\u001b[0m\n\u001b[0;31m    print(\"I have tab Indentation \")\u001b[0m\n\u001b[0m    ^\u001b[0m\n\u001b[0;31mIndentationError\u001b[0m\u001b[0;31m:\u001b[0m unexpected indent\n"
          ]
        }
      ]
    },
    {
      "cell_type": "markdown",
      "source": [
        "Input and Output in Python\n",
        "([Link](https://www.geeksforgeeks.org/python/input-and-output-in-python/))"
      ],
      "metadata": {
        "id": "L3bWNMJtfCzn"
      }
    },
    {
      "cell_type": "code",
      "source": [
        "## Input and output in Python\n",
        "\n",
        "# Python's input() function is used to take user input.\n",
        "\n",
        "name = input(\"Enter your name: \")\n",
        "print(\"Hello,\", name, \"! Welcome!\")\n"
      ],
      "metadata": {
        "colab": {
          "base_uri": "https://localhost:8080/"
        },
        "id": "nr9yc2NMcOHk",
        "outputId": "229653e1-b174-4f08-fb62-5400e1927b1f"
      },
      "execution_count": 4,
      "outputs": [
        {
          "output_type": "stream",
          "name": "stdout",
          "text": [
            "Enter your name: Rocky\n",
            "Hello, Rocky ! Welcome!\n"
          ]
        }
      ]
    },
    {
      "cell_type": "code",
      "source": [
        "# printing outputs in python\n",
        "\n",
        "# Single variable\n",
        "s = \"Bob\"\n",
        "print(s)\n",
        "\n",
        "# Multiple Variables\n",
        "s = \"Alice\"\n",
        "age = 25\n",
        "city = \"New York\"\n",
        "print(s, age, city)"
      ],
      "metadata": {
        "colab": {
          "base_uri": "https://localhost:8080/"
        },
        "id": "iXfjHpidcz1l",
        "outputId": "66a1c841-ca7e-4259-b7de-6b34a6b2471d"
      },
      "execution_count": 5,
      "outputs": [
        {
          "output_type": "stream",
          "name": "stdout",
          "text": [
            "Bob\n",
            "Alice 25 New York\n"
          ]
        }
      ]
    },
    {
      "cell_type": "code",
      "source": [
        "#Take Multiple Input in Python\n",
        "\n",
        "# taking two inputs at a time\n",
        "# Enter two values separated by a space, e.g., \"10 20\"\n",
        "x, y = input(\"Enter two values: \").split()\n",
        "print(\"Number of boys: \", x)\n",
        "print(\"Number of girls: \", y)\n",
        "\n",
        "# taking three inputs at a time\n",
        "# Enter three values separated by spaces, e.g., \"30 15 15\"\n",
        "x, y, z = input(\"Enter three values: \").split()\n",
        "print(\"Total number of students: \", x)\n",
        "print(\"Number of boys is : \", y)\n",
        "print(\"Number of girls is : \", z)\n",
        "\n",
        "# in the above code,  separate variables for each value using the split() method."
      ],
      "metadata": {
        "colab": {
          "base_uri": "https://localhost:8080/"
        },
        "id": "-CrDJKuKdLwo",
        "outputId": "6714887f-21d4-4cec-f65d-d7d60240cc3c"
      },
      "execution_count": 8,
      "outputs": [
        {
          "output_type": "stream",
          "name": "stdout",
          "text": [
            "Enter two values:  1 2 \n",
            "Number of boys:  1\n",
            "Number of girls:  2\n",
            "Enter three values: 1 2 3 \n",
            "Total number of students:  1\n",
            "Number of boys is :  2\n",
            "Number of girls is :  3\n"
          ]
        }
      ]
    },
    {
      "cell_type": "code",
      "source": [
        "# printing number\n",
        "\n",
        "# Taking input as int\n",
        "# Typecasting to int\n",
        "n = int(input(\"How many roses?: \"))\n",
        "print(n)\n"
      ],
      "metadata": {
        "colab": {
          "base_uri": "https://localhost:8080/"
        },
        "id": "wx0vT35wd3HS",
        "outputId": "0b55ef34-8baa-4178-8b26-fa5e93950fb9"
      },
      "execution_count": 9,
      "outputs": [
        {
          "output_type": "stream",
          "name": "stdout",
          "text": [
            "How many roses?: 3\n",
            "3\n"
          ]
        }
      ]
    },
    {
      "cell_type": "code",
      "source": [
        "# text or string as input\n",
        "\n",
        "# Taking input as string\n",
        "color = input(\"What color is rose?: \")\n",
        "print(color)"
      ],
      "metadata": {
        "colab": {
          "base_uri": "https://localhost:8080/"
        },
        "id": "DW93mywjeA40",
        "outputId": "169b61c0-92c6-4cc8-8d22-3639290a15af"
      },
      "execution_count": 10,
      "outputs": [
        {
          "output_type": "stream",
          "name": "stdout",
          "text": [
            "What color is rose?: blue\n",
            "blue\n"
          ]
        }
      ]
    },
    {
      "cell_type": "code",
      "source": [
        "# printing float or decimal number\n",
        "\n",
        "# Taking input as float\n",
        "# Typecasting to float\n",
        "price = float(input(\"Price of each rose?: \"))\n",
        "print(price)"
      ],
      "metadata": {
        "colab": {
          "base_uri": "https://localhost:8080/"
        },
        "id": "BMHNWtKSeN1y",
        "outputId": "46e8fb88-de14-4e0c-e23f-fa726b036bfa"
      },
      "execution_count": 11,
      "outputs": [
        {
          "output_type": "stream",
          "name": "stdout",
          "text": [
            "Price of each rose?: 6.8\n",
            "6.8\n"
          ]
        }
      ]
    },
    {
      "cell_type": "code",
      "source": [
        "# finding the data type of the input variable\n",
        "a = \"Hello World\"\n",
        "b = 10\n",
        "c = 11.22\n",
        "d = (\"Geeks\", \"for\", \"Geeks\")\n",
        "e = [\"Geeks\", \"for\", \"Geeks\"]\n",
        "f = {\"Geeks\": 1, \"for\":2, \"Geeks\":3}\n",
        "\n",
        "\n",
        "print(type(a))\n",
        "print(type(b))\n",
        "print(type(c))\n",
        "print(type(d))\n",
        "print(type(e))\n",
        "print(type(f))"
      ],
      "metadata": {
        "colab": {
          "base_uri": "https://localhost:8080/"
        },
        "id": "-kygBzKYeY6i",
        "outputId": "ebc9560e-ef1c-4900-fe63-db84798f315b"
      },
      "execution_count": 12,
      "outputs": [
        {
          "output_type": "stream",
          "name": "stdout",
          "text": [
            "<class 'str'>\n",
            "<class 'int'>\n",
            "<class 'float'>\n",
            "<class 'tuple'>\n",
            "<class 'list'>\n",
            "<class 'dict'>\n"
          ]
        }
      ]
    },
    {
      "cell_type": "markdown",
      "source": [
        "Different types of Variables in Python\n",
        "(For further information, refer this [site](https://www.geeksforgeeks.org/python/python-variables/))"
      ],
      "metadata": {
        "id": "ZJ4JYdx6eqLU"
      }
    },
    {
      "cell_type": "code",
      "source": [
        "# Variable 'x' stores the integer value 5\n",
        "x = 5\n",
        "\n",
        "# Variable 'name' stores the string \"Samantha\"\n",
        "name = \"Samantha\"\n",
        "\n",
        "print(x)\n",
        "print(name)"
      ],
      "metadata": {
        "colab": {
          "base_uri": "https://localhost:8080/"
        },
        "id": "2jzrFbE4e4jd",
        "outputId": "5e29e3e4-42fc-4e43-a0ba-30c96ea77e0b"
      },
      "execution_count": 13,
      "outputs": [
        {
          "output_type": "stream",
          "name": "stdout",
          "text": [
            "5\n",
            "Samantha\n"
          ]
        }
      ]
    },
    {
      "cell_type": "markdown",
      "source": [
        "**Rules for Naming Variables**\n",
        "To use variables effectively, we must follow Python’s naming rules:\n",
        "\n",
        "1.   Variable names can only contain letters, digits and underscores (_).\n",
        "\n",
        "1.   A variable name cannot start with a digit.\n",
        "\n",
        "2.   Variable names are case-sensitive (myVar and myvar are different).\n",
        "\n",
        "\n",
        "2.   Avoid using Python keywords (e.g., if, else, for) as variable names.\n"
      ],
      "metadata": {
        "id": "2XRe9w2ffY34"
      }
    },
    {
      "cell_type": "code",
      "source": [
        "# good practice\n",
        "\n",
        "age = 21\n",
        "_colour = \"lilac\"\n",
        "total_score = 90\n",
        "\n",
        "##invalid\n",
        "#1name = \"Error\"  # Starts with a digit\n",
        "#class = 10       # 'class' is a reserved keyword\n",
        "#user-name = \"Doe\"  # Contains a hyphen\n",
        "x = 5\n",
        "y = 3.14\n",
        "z = \"Hi\"\n",
        "\n",
        "x = 10\n",
        "x = \"Now a string\"\n",
        "\n",
        "a = b = c = 100\n",
        "print(a, b, c)\n",
        "\n",
        "x, y, z = 1, 2.5, \"Python\"\n",
        "print(x, y, z)"
      ],
      "metadata": {
        "colab": {
          "base_uri": "https://localhost:8080/"
        },
        "id": "NsdyYulbgM31",
        "outputId": "e375c58d-8a36-40bc-e4b3-195d3b44a482"
      },
      "execution_count": 14,
      "outputs": [
        {
          "output_type": "stream",
          "name": "stdout",
          "text": [
            "100 100 100\n",
            "1 2.5 Python\n"
          ]
        }
      ]
    },
    {
      "cell_type": "markdown",
      "source": [
        "**Type Casting a Variable**\n",
        "Type casting refers to the process of converting the value of one data type into another.\n",
        "\n",
        "Basic Casting Functions\n",
        "\n",
        "\n",
        "1.   int() - Converts compatible values to an integer.\n",
        "2.   float() - Transforms values into floating-point numbers.\n",
        "3.   str() - Converts any data type into a string."
      ],
      "metadata": {
        "id": "4ii1mEmXg8Ew"
      }
    },
    {
      "cell_type": "code",
      "source": [
        "# Casting variables\n",
        "s = \"10\"  # Initially a string\n",
        "n = int(s)  # Cast string to integer\n",
        "cnt = 5\n",
        "f = float(cnt)  # Cast integer to float\n",
        "age = 25\n",
        "s2 = str(age)  # Cast integer to string\n",
        "\n",
        "# Display results\n",
        "print(n)\n",
        "print(f)\n",
        "print(s2)\n",
        "\n",
        "# Delete a Variable Using del Keyword\n",
        "# Assigning value to variable\n",
        "x = 10\n",
        "print(x)\n",
        "\n",
        "# Removing the variable using del\n",
        "del x\n",
        "\n",
        "# Trying to print x after deletion will raise an error\n",
        "# print(x)  # Uncommenting this line will raise NameError: name 'x' is not defined"
      ],
      "metadata": {
        "colab": {
          "base_uri": "https://localhost:8080/"
        },
        "id": "2BCwklneg7ss",
        "outputId": "6c9b2af1-a380-4493-e0c4-784ac0e6a912"
      },
      "execution_count": 15,
      "outputs": [
        {
          "output_type": "stream",
          "name": "stdout",
          "text": [
            "10\n",
            "5.0\n",
            "25\n",
            "10\n"
          ]
        }
      ]
    },
    {
      "cell_type": "markdown",
      "source": [
        "[**Python Operators**](https://www.geeksforgeeks.org/python/python-operators/)\n",
        "\n",
        "\n",
        "1.   Operators: Special symbols like -, + , * , /, etc.\n",
        "2.   Operands: Value on which the operator is applied."
      ],
      "metadata": {
        "id": "_NJT1v1LiAzE"
      }
    },
    {
      "cell_type": "code",
      "source": [
        "# Variables\n",
        "a = 15\n",
        "b = 4\n",
        "\n",
        "# Addition\n",
        "print(\"Addition:\", a + b)\n",
        "\n",
        "# Subtraction\n",
        "print(\"Subtraction:\", a - b)\n",
        "\n",
        "# Multiplication\n",
        "print(\"Multiplication:\", a * b)\n",
        "\n",
        "# Division\n",
        "print(\"Division:\", a / b)\n",
        "\n",
        "# Floor Division\n",
        "print(\"Floor Division:\", a // b)\n",
        "\n",
        "# Modulus\n",
        "print(\"Modulus:\", a % b)\n",
        "\n",
        "# Exponentiation\n",
        "print(\"Exponentiation:\", a ** b)"
      ],
      "metadata": {
        "id": "dhK9JKCOiHQQ"
      },
      "execution_count": null,
      "outputs": []
    },
    {
      "cell_type": "code",
      "source": [
        "#Comparison Operators\n",
        "a = 13\n",
        "b = 33\n",
        "\n",
        "print(a > b)\n",
        "print(a < b)\n",
        "print(a == b)\n",
        "print(a != b)\n",
        "print(a >= b)\n",
        "print(a <= b)\n",
        "\n",
        "# Logical Operators\n",
        "a = True\n",
        "b = False\n",
        "print(a and b)\n",
        "print(a or b)\n",
        "print(not a)\n",
        "\n",
        "## bitwise Operators\n",
        "#1.Bitwise NOT\n",
        "#2.Bitwise Shift\n",
        "#3.Bitwise AND\n",
        "#4.Bitwise XOR\n",
        "#5.Bitwise OR\n",
        "a = 10\n",
        "b = 4\n",
        "\n",
        "print(a & b)\n",
        "print(a | b)\n",
        "print(~a)\n",
        "print(a ^ b)\n",
        "print(a >> 2)\n",
        "print(a << 2)\n",
        "\n",
        "##Identity Operators\n",
        "#is          True if the operands are identical\n",
        "#is not      True if the operands are not identical\n",
        "\n",
        "a = 10\n",
        "b = 20\n",
        "c = a\n",
        "\n",
        "print(a is not b)\n",
        "print(a is c)\n",
        "\n",
        "##Membership Operators\n",
        "#in            True if value is found in the sequence\n",
        "#not in        True if value is not found in the sequence\n",
        "\n",
        "x = 24\n",
        "y = 20\n",
        "list = [10, 20, 30, 40, 50]\n",
        "\n",
        "if (x not in list):\n",
        "    print(\"x is NOT present in given list\")\n",
        "else:\n",
        "    print(\"x is present in given list\")\n",
        "\n",
        "if (y in list):\n",
        "    print(\"y is present in given list\")\n",
        "else:\n",
        "    print(\"y is NOT present in given list\")\n",
        "\n",
        "# Ternary Operator\n",
        "# conditional expressions are operators that evaluate something\n",
        "# based on a condition being true or false.\n",
        "\n",
        "#Syntax :  [on_true] if [expression] else [on_false]\n",
        "a, b = 10, 20\n",
        "min = a if a < b else b\n",
        "\n",
        "print(min)\n"
      ],
      "metadata": {
        "id": "KumaXGsni65E"
      },
      "execution_count": null,
      "outputs": []
    },
    {
      "cell_type": "markdown",
      "source": [
        "**[Python Keywords](https://www.geeksforgeeks.org/python/python-keywords/)**\n",
        "\n"
      ],
      "metadata": {
        "id": "pEPBGC0xk8hV"
      }
    },
    {
      "cell_type": "markdown",
      "source": [
        "**[Python Data Types](https://www.geeksforgeeks.org/python/python-data-types/)**"
      ],
      "metadata": {
        "id": "QY9yJgjMlR_S"
      }
    },
    {
      "cell_type": "code",
      "source": [
        "# Numerical data\n"
      ],
      "metadata": {
        "id": "OhwHDMDaleXO"
      },
      "execution_count": null,
      "outputs": []
    }
  ]
}